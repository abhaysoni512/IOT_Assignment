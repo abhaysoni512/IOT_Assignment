{
 "cells": [
  {
   "cell_type": "code",
   "execution_count": 2,
   "id": "43071cee-04e1-4976-9ede-495bd437a895",
   "metadata": {},
   "outputs": [],
   "source": [
    "import pandas as pd"
   ]
  },
  {
   "cell_type": "code",
   "execution_count": 3,
   "id": "1939be49-8f36-43b2-951e-0727eb82c879",
   "metadata": {},
   "outputs": [
    {
     "name": "stdout",
     "output_type": "stream",
     "text": [
      "0    1\n",
      "1    2\n",
      "2    3\n",
      "3    4\n",
      "4    5\n",
      "dtype: int64\n"
     ]
    }
   ],
   "source": [
    "# 1\n",
    "data = [1, 2, 3, 4, 5]\n",
    "series = pd.Series(data)\n",
    "print(series)"
   ]
  },
  {
   "cell_type": "code",
   "execution_count": 4,
   "id": "2a20617e-f082-4a9b-8c8c-6ab8a764e397",
   "metadata": {},
   "outputs": [
    {
     "name": "stdout",
     "output_type": "stream",
     "text": [
      "[1, 2, 3, 4, 5]\n",
      "<class 'list'>\n"
     ]
    }
   ],
   "source": [
    "# 2\n",
    "data = [1, 2, 3, 4, 5]\n",
    "series = pd.Series(data)\n",
    "python_list = series.tolist()\n",
    "print(python_list)\n",
    "print(type(python_list))"
   ]
  },
  {
   "cell_type": "code",
   "execution_count": 5,
   "id": "e75e8ed1-5f2e-436f-a015-4673b6bcbf30",
   "metadata": {},
   "outputs": [
    {
     "name": "stdout",
     "output_type": "stream",
     "text": [
      "Addition: 0     3\n",
      "1     7\n",
      "2    11\n",
      "3    15\n",
      "4    19\n",
      "dtype: int64\n",
      "Subtraction: 0    1\n",
      "1    1\n",
      "2    1\n",
      "3    1\n",
      "4    1\n",
      "dtype: int64\n",
      "Multiplication: 0     2\n",
      "1    12\n",
      "2    30\n",
      "3    56\n",
      "4    90\n",
      "dtype: int64\n",
      "Division: 0    2.000000\n",
      "1    1.333333\n",
      "2    1.200000\n",
      "3    1.142857\n",
      "4    1.111111\n",
      "dtype: float64\n"
     ]
    }
   ],
   "source": [
    "# 3\n",
    "series1 = pd.Series([2, 4, 6, 8, 10])\n",
    "series2 = pd.Series([1, 3, 5, 7, 9])\n",
    "addition = series1 + series2\n",
    "subtraction = series1 - series2\n",
    "multiplication = series1 * series2\n",
    "division = series1 / series2\n",
    "print(\"Addition:\", addition)\n",
    "print(\"Subtraction:\", subtraction)\n",
    "print(\"Multiplication:\", multiplication)\n",
    "print(\"Division:\", division)"
   ]
  },
  {
   "cell_type": "code",
   "execution_count": 6,
   "id": "51b2412b-6543-4734-bfcf-cffaa4cc3196",
   "metadata": {},
   "outputs": [
    {
     "name": "stdout",
     "output_type": "stream",
     "text": [
      "a    100\n",
      "b    200\n",
      "c    300\n",
      "d    400\n",
      "e    800\n",
      "dtype: int64\n"
     ]
    }
   ],
   "source": [
    "# 4\n",
    "dictionary = {'a': 100, 'b': 200, 'c': 300, 'd': 400, 'e': 800}\n",
    "series = pd.Series(dictionary)\n",
    "print(series)"
   ]
  },
  {
   "cell_type": "code",
   "execution_count": 7,
   "id": "cdec72a5-507d-4b04-833c-3710aa26098a",
   "metadata": {},
   "outputs": [
    {
     "name": "stdout",
     "output_type": "stream",
     "text": [
      "0    10\n",
      "1    20\n",
      "2    30\n",
      "3    40\n",
      "4    50\n",
      "dtype: int64\n"
     ]
    }
   ],
   "source": [
    "# 5\n",
    "import numpy as np\n",
    "numpy_array = np.array([10, 20, 30, 40, 50])\n",
    "series = pd.Series(numpy_array)\n",
    "print(series)"
   ]
  },
  {
   "cell_type": "code",
   "execution_count": 8,
   "id": "c6e47230-6ff4-4dde-b8e1-9d6c05d43599",
   "metadata": {},
   "outputs": [
    {
     "name": "stdout",
     "output_type": "stream",
     "text": [
      "0    1.0\n",
      "1    2.0\n",
      "2    3.0\n",
      "3    4.0\n",
      "4    5.0\n",
      "dtype: float64\n"
     ]
    }
   ],
   "source": [
    "# 6\n",
    "series = pd.Series([1, 2, 3, 4, 5])\n",
    "series = series.astype(float)\n",
    "print(series)"
   ]
  },
  {
   "cell_type": "code",
   "execution_count": 9,
   "id": "2c2ba71d-355e-40cf-8091-ec4ec49baa6b",
   "metadata": {},
   "outputs": [
    {
     "name": "stdout",
     "output_type": "stream",
     "text": [
      "[1 2 3 4 5]\n"
     ]
    }
   ],
   "source": [
    "# 7\n",
    "series = pd.Series([1, 2, 3, 4, 5])\n",
    "array = series.values\n",
    "print(array)"
   ]
  },
  {
   "cell_type": "code",
   "execution_count": 10,
   "id": "f12cc2be-4f70-40a3-a2ab-a06ea04af589",
   "metadata": {},
   "outputs": [
    {
     "name": "stdout",
     "output_type": "stream",
     "text": [
      "    Name  Age\n",
      "0    Tom   28\n",
      "1   Jack   34\n",
      "2  Steve   29\n",
      "3  Ricky   42\n"
     ]
    }
   ],
   "source": [
    "# 8\n",
    "data = {'Name': ['Tom', 'Jack', 'Steve', 'Ricky'], 'Age': [28, 34, 29, 42]}\n",
    "df = pd.DataFrame(data)\n",
    "print(df)"
   ]
  },
  {
   "cell_type": "code",
   "execution_count": 11,
   "id": "b86bd09f-a6fb-4b59-9bf4-6f68f836863e",
   "metadata": {},
   "outputs": [
    {
     "name": "stdout",
     "output_type": "stream",
     "text": [
      "<class 'pandas.core.series.Series'>\n",
      "        Name\n",
      "101    Alice\n",
      "102      Bob\n",
      "103  Charlie\n",
      "104    David\n",
      "105     Emma\n",
      "106    Frank\n",
      "107    Grace\n",
      "108   Hannah\n",
      "109      Ian\n",
      "110     Jack\n",
      "        Name\n",
      "101    Alice\n",
      "102      Bob\n",
      "103  Charlie\n",
      "104    David\n",
      "105     Emma\n",
      "       Name\n",
      "106   Frank\n",
      "107   Grace\n",
      "108  Hannah\n",
      "109     Ian\n",
      "110    Jack\n",
      "      Name\n",
      "101  Alice\n",
      "102    Bob\n",
      "109    Ian\n",
      "110   Jack\n",
      "Name    Emma\n",
      "Name: 105, dtype: object\n",
      "Name    David\n",
      "Name: 104, dtype: object\n"
     ]
    }
   ],
   "source": [
    "# 9\n",
    "# i) \n",
    "emp_ids = [101, 102, 103, 104, 105, 106, 107, 108, 109, 110]\n",
    "names = ['Alice', 'Bob', 'Charlie', 'David', 'Emma', 'Frank', 'Grace', 'Hannah', 'Ian', 'Jack']\n",
    "# ii)\n",
    "series = pd.Series(names, index=emp_ids)\n",
    "# iii)\n",
    "print(type(series))\n",
    "# iv)\n",
    "df = pd.DataFrame(series, columns=['Name'])\n",
    "# v)\n",
    "print(df)\n",
    "print(df.head())\n",
    "print(df.tail())\n",
    "print(df.iloc[[0, 1, -2, -1]])\n",
    "print(df.iloc[4])\n",
    "print(df.iloc[3])\n",
    "# vi)\n",
    "df.to_csv('MyRecord.csv')"
   ]
  },
  {
   "cell_type": "code",
   "execution_count": 13,
   "id": "c7f0fe41-4be0-4e7e-ba84-a109f3947978",
   "metadata": {},
   "outputs": [
    {
     "name": "stdout",
     "output_type": "stream",
     "text": [
      "   Unnamed: 0     TV  Radio  Newspaper  Sales\n",
      "0           1  230.1   37.8       69.2   22.1\n",
      "1           2   44.5   39.3       45.1   10.4\n",
      "2           3   17.2   45.9       69.3    9.3\n",
      "3           4  151.5   41.3       58.5   18.5\n",
      "4           5  180.8   10.8       58.4   12.9\n",
      "     Unnamed: 0     TV  Radio  Newspaper  Sales\n",
      "195         196   38.2    3.7       13.8    7.6\n",
      "196         197   94.2    4.9        8.1    9.7\n",
      "197         198  177.0    9.3        6.4   12.8\n",
      "198         199  283.6   42.0       66.2   25.5\n",
      "199         200  232.1    8.6        8.7   13.4\n",
      "Index(['Unnamed: 0', 'TV', 'Radio', 'Newspaper', 'Sales'], dtype='object')\n",
      "     Unnamed: 0     TV  Radio  Newspaper  Sales\n",
      "197         198  177.0    9.3        6.4   12.8\n",
      "198         199  283.6   42.0       66.2   25.5\n",
      "199         200  232.1    8.6        8.7   13.4\n",
      "<class 'pandas.core.frame.DataFrame'>\n",
      "RangeIndex: 200 entries, 0 to 199\n",
      "Data columns (total 5 columns):\n",
      " #   Column      Non-Null Count  Dtype  \n",
      "---  ------      --------------  -----  \n",
      " 0   Unnamed: 0  200 non-null    int64  \n",
      " 1   TV          200 non-null    float64\n",
      " 2   Radio       200 non-null    float64\n",
      " 3   Newspaper   200 non-null    float64\n",
      " 4   Sales       200 non-null    float64\n",
      "dtypes: float64(4), int64(1)\n",
      "memory usage: 7.9 KB\n",
      "None\n",
      "Unnamed: 0      int64\n",
      "TV            float64\n",
      "Radio         float64\n",
      "Newspaper     float64\n",
      "Sales         float64\n",
      "dtype: object\n",
      "Unnamed: 0    0\n",
      "TV            0\n",
      "Radio         0\n",
      "Newspaper     0\n",
      "Sales         0\n",
      "dtype: int64\n",
      "   Unnamed: 0     TV  Newspaper  Sales\n",
      "0           1  230.1       69.2   22.1\n",
      "1           2   44.5       45.1   10.4\n",
      "2           3   17.2       69.3    9.3\n",
      "3           4  151.5       58.5   18.5\n",
      "4           5  180.8       58.4   12.9\n",
      "5           6    8.7       75.0    7.2\n",
      "6           7   57.5       23.5   11.8\n",
      "7           8  120.2       11.6   13.2\n",
      "8           9    8.6        1.0    4.8\n",
      "9          10  199.8       21.2   10.6\n",
      "(200, 5)\n",
      "Unnamed: 0       200.0\n",
      "TV               296.4\n",
      "Newspaper        114.0\n",
      "Sales             27.0\n",
      "Updated_Sales     29.7\n",
      "dtype: float64\n",
      "Unnamed: 0       1.00\n",
      "TV               0.70\n",
      "Newspaper        0.30\n",
      "Sales            1.60\n",
      "Updated_Sales    1.76\n",
      "dtype: float64\n",
      "Unnamed: 0       100.50000\n",
      "TV               147.04250\n",
      "Newspaper         30.55400\n",
      "Sales             14.02250\n",
      "Updated_Sales     15.42475\n",
      "dtype: float64\n",
      "Unnamed: 0       100.50\n",
      "TV               149.75\n",
      "Newspaper         25.75\n",
      "Sales             12.90\n",
      "Updated_Sales     14.19\n",
      "dtype: float64\n",
      "Unnamed: 0       57.879185\n",
      "TV               85.854236\n",
      "Newspaper        21.778621\n",
      "Sales             5.217457\n",
      "Updated_Sales     5.739202\n",
      "dtype: float64\n",
      "       Unnamed: 0          TV   Newspaper       Sales  Updated_Sales\n",
      "count  200.000000  200.000000  200.000000  200.000000     200.000000\n",
      "mean   100.500000  147.042500   30.554000   14.022500      15.424750\n",
      "std     57.879185   85.854236   21.778621    5.217457       5.739202\n",
      "min      1.000000    0.700000    0.300000    1.600000       1.760000\n",
      "25%     50.750000   74.375000   12.750000   10.375000      11.412500\n",
      "50%    100.500000  149.750000   25.750000   12.900000      14.190000\n",
      "75%    150.250000  218.825000   45.100000   17.400000      19.140000\n",
      "max    200.000000  296.400000  114.000000   27.000000      29.700000\n"
     ]
    }
   ],
   "source": [
    "# 11\n",
    "# i)\n",
    "df = pd.read_csv('Advertising.csv')\n",
    "# ii)\n",
    "print(df.head())\n",
    "# iii)\n",
    "print(df.tail())\n",
    "# iv)\n",
    "print(df.columns)\n",
    "# v)\n",
    "print(df.tail(3))\n",
    "# vi)\n",
    "print(df.info())\n",
    "# vii)\n",
    "print(df.dtypes)\n",
    "# viii)\n",
    "print(df.isnull().sum())\n",
    "# ix)\n",
    "df.drop(columns='Radio', inplace=True)\n",
    "print(df.head(10))\n",
    "# x)\n",
    "df['Updated_Sales'] = df['Sales'] * 1.10\n",
    "# xi)\n",
    "print(df.shape)\n",
    "# xii)\n",
    "print(df.max())\n",
    "print(df.min())\n",
    "print(df.mean())\n",
    "print(df.median())\n",
    "print(df.std())\n",
    "# xiii)\n",
    "print(df.describe())\n"
   ]
  },
  {
   "cell_type": "code",
   "execution_count": null,
   "id": "235177cb-fedb-40e8-8f8b-60b20efe19dc",
   "metadata": {},
   "outputs": [],
   "source": []
  }
 ],
 "metadata": {
  "kernelspec": {
   "display_name": "Python 3 (ipykernel)",
   "language": "python",
   "name": "python3"
  },
  "language_info": {
   "codemirror_mode": {
    "name": "ipython",
    "version": 3
   },
   "file_extension": ".py",
   "mimetype": "text/x-python",
   "name": "python",
   "nbconvert_exporter": "python",
   "pygments_lexer": "ipython3",
   "version": "3.11.3"
  }
 },
 "nbformat": 4,
 "nbformat_minor": 5
}

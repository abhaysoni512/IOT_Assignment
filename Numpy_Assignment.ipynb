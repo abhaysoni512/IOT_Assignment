{
 "cells": [
  {
   "cell_type": "code",
   "execution_count": 2,
   "id": "e0222ca9-8758-4e47-b52a-5b8e96be1b2a",
   "metadata": {},
   "outputs": [],
   "source": [
    "import numpy as np"
   ]
  },
  {
   "cell_type": "code",
   "execution_count": null,
   "id": "c56211cb-19ff-4201-aa88-6f6c23e5c8c3",
   "metadata": {},
   "outputs": [],
   "source": [
    "#1\n",
    "arr = np.array([1,7,13,105])\n",
    "print(f\"Size of array ={arr.nbytes}\")\n",
    "\n",
    "               "
   ]
  },
  {
   "cell_type": "code",
   "execution_count": null,
   "id": "4ba63196-a67d-42b0-b638-de0f2b9db7cb",
   "metadata": {},
   "outputs": [],
   "source": [
    "#2\n",
    "arr1 = np.array([1,7,13,105])\n",
    "arr2 = np.array([2,7,12,105])\n",
    "for i in range(len(arr1)):\n",
    "    \n",
    "    if arr1[i] == arr2[i]:\n",
    "        print(f\"{arr1[i]} is equal to {arr2[i]}\")\n",
    "    elif arr1[i] > arr2[i]:\n",
    "        print(f\"{arr1[i]} is greater than {arr2[i]}\")\n",
    "    else:\n",
    "        print(f\"{arr1[i]} is less than {arr2[i]}\")\n",
    "\n",
    "\n",
    "        "
   ]
  },
  {
   "cell_type": "code",
   "execution_count": null,
   "id": "a21f4dd5-c42c-4e6a-81c2-8b937b514eb5",
   "metadata": {},
   "outputs": [],
   "source": [
    "#3\n",
    "arr = np.zeros(10)\n",
    "print(arr)\n",
    "arr1 = np.ones(10)\n",
    "print(arr1)\n",
    "arr2 = 5 * arr1\n",
    "print(arr2)\n",
    "arr3 = 10 * arr1\n",
    "print(arr3)\n",
    "arr4 = 20 * arr1\n",
    "print(arr4)\n",
    "arr5 = 50 * arr1\n",
    "print(arr5)\n",
    "  \n"
   ]
  },
  {
   "cell_type": "code",
   "execution_count": null,
   "id": "d9fb6ac5-50f3-48eb-ae5d-936bd14ca5b1",
   "metadata": {},
   "outputs": [],
   "source": [
    "#4\n",
    "arr =np.arange(30,71)\n",
    "print(arr)\n"
   ]
  },
  {
   "cell_type": "code",
   "execution_count": null,
   "id": "102748c5-e6ab-4f6d-bb30-27e6e6013c60",
   "metadata": {},
   "outputs": [],
   "source": [
    "#5\n",
    "arr1 =np.arange(50,96)\n",
    "print(arr1)"
   ]
  },
  {
   "cell_type": "code",
   "execution_count": null,
   "id": "205b386a-6f51-4eab-8bee-fcedaf03b00b",
   "metadata": {},
   "outputs": [],
   "source": [
    "#6\n",
    "arr =np.arange(20,80,2)\n",
    "print(arr)"
   ]
  },
  {
   "cell_type": "code",
   "execution_count": null,
   "id": "0d70dab0-c5bf-4c3b-a69a-cc5923a91307",
   "metadata": {},
   "outputs": [],
   "source": [
    "#7\n",
    "arr =np.arange(21,80,2)\n",
    "print(arr)"
   ]
  },
  {
   "cell_type": "code",
   "execution_count": 31,
   "id": "c98360f7-e670-48db-b205-39913df2ef7e",
   "metadata": {},
   "outputs": [
    {
     "name": "stdout",
     "output_type": "stream",
     "text": [
      "[27 20 33 11 30 16 24 33 25 17 15 39 24 17 30]\n"
     ]
    }
   ],
   "source": [
    "#8\n",
    "arr =np.random.randint(10,40,15)\n",
    "print(arr)\n"
   ]
  },
  {
   "cell_type": "code",
   "execution_count": 37,
   "id": "97288ff0-d667-40a7-b1b9-e18fef83f56e",
   "metadata": {},
   "outputs": [
    {
     "name": "stdout",
     "output_type": "stream",
     "text": [
      "[49 44 49 46 36 33 44 42 31 48]\n"
     ]
    }
   ],
   "source": [
    "#9\n",
    "arr = np.random.randint(30,50,10)\n",
    "print(arr)"
   ]
  },
  {
   "cell_type": "code",
   "execution_count": 38,
   "id": "759f4368-05a5-412f-acc9-4f7425db45ef",
   "metadata": {},
   "outputs": [
    {
     "name": "stdout",
     "output_type": "stream",
     "text": [
      "[79 89 83 73 71 51 87 83 88 61 81 78 88 82 79 53 80 50 65 74]\n"
     ]
    }
   ],
   "source": [
    "#10\n",
    "arr = np.random.randint(50,90,20)\n",
    "print(arr)"
   ]
  },
  {
   "cell_type": "code",
   "execution_count": 9,
   "id": "f35034b6-ef5b-4ce6-8514-82cec14f64bc",
   "metadata": {},
   "outputs": [
    {
     "name": "stdin",
     "output_type": "stream",
     "text": [
      "Enter the size of the array:  5\n",
      "Enter element of arr1 1:  10\n",
      "Enter element of arr1 2:  20\n",
      "Enter element of arr1 3:  30\n",
      "Enter element of arr1 4:  40\n",
      "Enter element of arr1 5:  50\n",
      "Enter element of arr2 1:  1\n",
      "Enter element of arr2 2:  2\n",
      "Enter element of arr2 3:  3\n",
      "Enter element of arr2 4:  4\n",
      "Enter element of arr2 5:  5\n"
     ]
    },
    {
     "name": "stdout",
     "output_type": "stream",
     "text": [
      "[11. 22. 33. 44. 55.]\n",
      "[ 9. 18. 27. 36. 45.]\n",
      "[ 10.  40.  90. 160. 250.]\n",
      "[10. 10. 10. 10. 10.]\n"
     ]
    }
   ],
   "source": [
    "#11\n",
    "def Array_Generation():\n",
    "    size = int(input(\"Enter the size of the array: \"))\n",
    "    elements1 = []\n",
    "    elements2 = []\n",
    "    \n",
    "    for i in range(size):\n",
    "        element = float(input(f\"Enter element of arr1 {i+1}: \"))\n",
    "        elements1.append(element)\n",
    "    for i in range(size):\n",
    "        element = float(input(f\"Enter element of arr2 {i+1}: \"))\n",
    "        elements2.append(element)\n",
    "    arr1 = np.array(elements1)\n",
    "    arr2 = np.array(elements2)\n",
    "    arr3 = arr1 + arr2\n",
    "    arr4 = arr1 - arr2\n",
    "    arr5 = arr1 * arr2\n",
    "    arr6 = arr1 / arr2\n",
    "    print(arr3)\n",
    "    print(arr4)\n",
    "    print(arr5)\n",
    "    print(arr6)\n",
    "Array_Generation()\n",
    "\n",
    "\n",
    "\n",
    "\n",
    "\n",
    "\n",
    "\n"
   ]
  },
  {
   "cell_type": "code",
   "execution_count": 16,
   "id": "9968ef56-b714-474b-9a67-28e31dbf27af",
   "metadata": {},
   "outputs": [
    {
     "name": "stdout",
     "output_type": "stream",
     "text": [
      "[[10 11 12 13]\n",
      " [14 15 16 17]\n",
      " [18 19 20 21]]\n"
     ]
    }
   ],
   "source": [
    "#12\n",
    "arr = np.arange(10,22)\n",
    "arr = arr.reshape(3,4)\n",
    "print(arr)\n",
    "\n",
    "\n"
   ]
  },
  {
   "cell_type": "code",
   "execution_count": 25,
   "id": "93977f36-fc13-46e7-b91e-b2c90809bd90",
   "metadata": {},
   "outputs": [
    {
     "name": "stdout",
     "output_type": "stream",
     "text": [
      "3x3 Identity Matrix:\n",
      "[[1. 0. 0.]\n",
      " [0. 1. 0.]\n",
      " [0. 0. 1.]]\n"
     ]
    }
   ],
   "source": [
    "#13\n",
    "identity_matrix = np.zeros((3, 3))\n",
    "\n",
    "for i in range(3):\n",
    "    identity_matrix[i, i] = 1\n",
    "\n",
    "print(\"3x3 Identity Matrix:\")\n",
    "print(identity_matrix)\n",
    "\n"
   ]
  },
  {
   "cell_type": "code",
   "execution_count": 6,
   "id": "3e76664b-537e-446d-95ff-6f6410eb52a5",
   "metadata": {},
   "outputs": [
    {
     "name": "stdout",
     "output_type": "stream",
     "text": [
      "No of rows: 3\n",
      "No of columns: 4\n"
     ]
    }
   ],
   "source": [
    "#14\n",
    "arr = np.arange(10,22)\n",
    "arr = arr.reshape(3,4)\n",
    "\n",
    "print(f\"No of rows: {arr.shape[0]}\")\n",
    "print(f\"No of columns: {arr.shape[1]}\")\n",
    "\n",
    "# for i in range(len(arr)):\n",
    "#     if i \n"
   ]
  },
  {
   "cell_type": "code",
   "execution_count": 14,
   "id": "c9c633e5-1523-4395-a49b-b7705e68d4f2",
   "metadata": {},
   "outputs": [
    {
     "name": "stdout",
     "output_type": "stream",
     "text": [
      "[[1. 0. 0. 0. 0.]\n",
      " [0. 2. 0. 0. 0.]\n",
      " [0. 0. 3. 0. 0.]\n",
      " [0. 0. 0. 4. 0.]\n",
      " [0. 0. 0. 0. 5.]]\n"
     ]
    }
   ],
   "source": [
    "#15\n",
    "matrix = np.zeros((5, 5))\n",
    "\n",
    "for i in range(5):\n",
    "        matrix[i,i] = i+1\n",
    "print(matrix)"
   ]
  },
  {
   "cell_type": "code",
   "execution_count": 22,
   "id": "d091446f-7619-4437-8963-c01a33a912bc",
   "metadata": {},
   "outputs": [
    {
     "name": "stdout",
     "output_type": "stream",
     "text": [
      "[[[75 34 50]\n",
      "  [26 39 33]\n",
      "  [69 30 97]]\n",
      "\n",
      " [[64 96 72]\n",
      "  [73 88 11]\n",
      "  [26 84 59]]\n",
      "\n",
      " [[59 58 54]\n",
      "  [74  6 92]\n",
      "  [68  8 54]]]\n"
     ]
    }
   ],
   "source": [
    "#16\n",
    "element =np.random.randint(1,100,27)\n",
    "arr = element.reshape(3,3,3)\n",
    "print(arr)\n",
    "\n",
    "\n"
   ]
  },
  {
   "cell_type": "code",
   "execution_count": 23,
   "id": "600273bd-27b2-42fb-b9d1-c669c33f1382",
   "metadata": {},
   "outputs": [
    {
     "name": "stdout",
     "output_type": "stream",
     "text": [
      "[[[24 36 31 37]\n",
      "  [35 69 98 50]\n",
      "  [31 63 62 64]]\n",
      "\n",
      " [[95 29 85 27]\n",
      "  [21 83 70 82]\n",
      "  [90 43 12 50]]]\n"
     ]
    }
   ],
   "source": [
    "#17\n",
    "element =np.random.randint(1,100,24)\n",
    "arr = element.reshape(2,3,4)\n",
    "print(arr)"
   ]
  },
  {
   "cell_type": "code",
   "execution_count": 32,
   "id": "5fa011d1-654d-4428-9eb3-60a1925e52c7",
   "metadata": {},
   "outputs": [
    {
     "name": "stdout",
     "output_type": "stream",
     "text": [
      "type :<class 'numpy.ndarray'>\n",
      "[1 2 3 4 5 6 7 8 9]\n"
     ]
    }
   ],
   "source": [
    "#18\n",
    "element = [1,2,3,4,5,6,7,8,9]\n",
    "arr = np.array(element)\n",
    "print(f\"type :{type(arr)}\")\n",
    "print(arr)"
   ]
  },
  {
   "cell_type": "code",
   "execution_count": 36,
   "id": "03fed045-8ece-4dc2-b839-6186cf1d3226",
   "metadata": {},
   "outputs": [
    {
     "name": "stdout",
     "output_type": "stream",
     "text": [
      "[[ 2  3  4]\n",
      " [ 5  6  7]\n",
      " [ 8  9 10]]\n"
     ]
    }
   ],
   "source": [
    "#19\n",
    "matrix = np.arange(2,11).reshape(3,3)\n",
    "print(matrix)"
   ]
  },
  {
   "cell_type": "code",
   "execution_count": 38,
   "id": "d7449aab-3f50-44a5-902a-6b4075f92bc6",
   "metadata": {},
   "outputs": [
    {
     "name": "stdout",
     "output_type": "stream",
     "text": [
      "type :<class 'numpy.ndarray'>\n",
      "[12 13 14 15 16 17 18 19 20 21 22 23 24 25 26 27 28 29 30 31 32 33 34 35\n",
      " 36 37]\n"
     ]
    }
   ],
   "source": [
    "#20\n",
    "array = np.arange(12,38)\n",
    "print(f\"type :{type(array)}\")\n",
    "print(array)"
   ]
  },
  {
   "cell_type": "code",
   "execution_count": 42,
   "id": "7b7c4030-0608-4cd2-ae88-aabad0108cba",
   "metadata": {},
   "outputs": [
    {
     "name": "stdout",
     "output_type": "stream",
     "text": [
      "Original array: [1 2 3 4 5]\n",
      "Reversed array: [5 4 3 2 1]\n"
     ]
    }
   ],
   "source": [
    "#21\n",
    "arr = np.array([1, 2, 3, 4, 5])\n",
    "\n",
    "reversed_arr = arr[::-1]\n",
    "\n",
    "print(f\"Original array: {arr}\")\n",
    "print(f\"Reversed array: {reversed_arr}\")\n"
   ]
  },
  {
   "cell_type": "code",
   "execution_count": 44,
   "id": "33828efd-96fe-4f8c-ba41-01995bd4ff63",
   "metadata": {},
   "outputs": [
    {
     "name": "stdout",
     "output_type": "stream",
     "text": [
      "type : <class 'int'>\n",
      "type : <class 'float'>\n"
     ]
    }
   ],
   "source": [
    "#22\n",
    "num = 10\n",
    "print(f\"type : {type(num)}\")\n",
    "num_f = float(num)\n",
    "print(f\"type : {type(num_f)}\")\n"
   ]
  },
  {
   "cell_type": "code",
   "execution_count": 45,
   "id": "185a9a56-e135-4de7-a12f-9323a400970c",
   "metadata": {},
   "outputs": [
    {
     "name": "stdout",
     "output_type": "stream",
     "text": [
      "[1 2 3 4 5]\n"
     ]
    }
   ],
   "source": [
    "#23\n",
    "list1 = [1, 2, 3, 4, 5]\n",
    "arr = np.array(list1)\n",
    "print(arr)"
   ]
  },
  {
   "cell_type": "code",
   "execution_count": 46,
   "id": "22e512ce-07a2-4cea-ab5f-e7b769a890e3",
   "metadata": {},
   "outputs": [
    {
     "name": "stdout",
     "output_type": "stream",
     "text": [
      "[1 2 0 1 2]\n"
     ]
    }
   ],
   "source": [
    "#24\n",
    "arr = np.array([10, 20, 30, 40, 50])\n",
    "remainder = np.remainder(arr, 3)\n",
    "print(remainder)"
   ]
  },
  {
   "cell_type": "code",
   "execution_count": 49,
   "id": "a3a435fd-ebb8-4133-9a58-c8e97be715e3",
   "metadata": {},
   "outputs": [
    {
     "name": "stdout",
     "output_type": "stream",
     "text": [
      "[2 0 1 2 0 1 2 0 1 2 0 1 2 0 1 2 0 1 2 0 1 2 0 1 2 0 1 2 0 1]\n"
     ]
    }
   ],
   "source": [
    "#25\n",
    "element = np.arange(20,50)\n",
    "array = np.array(element)\n",
    "remainder =np.remainder(array,3)\n",
    "print(remainder)"
   ]
  },
  {
   "cell_type": "code",
   "execution_count": null,
   "id": "48e3b143-242b-4d55-8e5d-0122a592264b",
   "metadata": {},
   "outputs": [],
   "source": []
  }
 ],
 "metadata": {
  "kernelspec": {
   "display_name": "Python 3 (ipykernel)",
   "language": "python",
   "name": "python3"
  },
  "language_info": {
   "codemirror_mode": {
    "name": "ipython",
    "version": 3
   },
   "file_extension": ".py",
   "mimetype": "text/x-python",
   "name": "python",
   "nbconvert_exporter": "python",
   "pygments_lexer": "ipython3",
   "version": "3.11.3"
  }
 },
 "nbformat": 4,
 "nbformat_minor": 5
}
